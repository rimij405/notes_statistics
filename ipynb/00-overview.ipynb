{
 "cells": [
  {
   "cell_type": "markdown",
   "metadata": {
    "tags": []
   },
   "source": [
    "**Copyright 2021 Ian Effendi**\n",
    "\n",
    "*This Source Code Form is subject to the terms of the Mozilla Public License, v. 2.0. If a copy of the MPL was not distributed with this file, You can obtain one at https://mozilla.org/MPL/2.0/.*"
   ]
  },
  {
   "cell_type": "markdown",
   "metadata": {},
   "source": [
    "# Probability & Statistics\n",
    "\n",
    "This notebook provides an overview of the course topics. Each section will link to an external notebook on the particular topic."
   ]
  },
  {
   "cell_type": "markdown",
   "metadata": {},
   "source": [
    "## Table of Contents\n",
    "\n",
    "<a id=\"toc\"></a>\n",
    "\n",
    "- [Course Overview](#) <-- You are here!\n",
    "- [1 Descriptive Statistics](# \"TODO - Not yet complete. DeVore\")\n",
    "    - [Populations, Samples, and Processes](# \"TODO - Not yet complete. DeVore\")\n",
    "    - [Measures of Location](# \"TODO - Not yet complete. DeVore\")\n",
    "    - [Measures of Spread](# \"TODO - Not yet complete. DeVore\")\n",
    "    - [Exercises](# \"TODO - Not yet complete. DeVore\")\n",
    "- [2 Foundations of Probability Theory](# \"TODO - Not yet complete. DeVore\")\n",
    "    - [Sample Spaces and Events](# \"TODO - Not yet complete. DeVore + Krenn\")\n",
    "    - [Axioms, Interpretations, and Properties of Probability](# \"TODO - Not yet complete. DeVore\")\n",
    "    - [Probability Measures](# \"TODO - Not yet complete.)\n",
    "    - [Independence](# \"TODO - Not yet complete.)\n",
    "    - [Counting Techniques](# \"TODO - Not yet complete.  DeVore\")\n",
    "    - [Conditional Probabilities](# \"TODO - Not yet complete.)\n",
    "    - [Bayesian Inversion](# \"TODO - Not yet complete.)\n",
    "    - [Partitions](# \"TODO - Not yet complete.)\n",
    "    - [Combinatorics](# \"TODO - Not yet complete.)\n",
    "    - [Exercises](# \"TODO - Not yet complete. DeVore\")\n",
    "- [3 Random/Stochastic Variables](# \"TODO - Not yet complete.)\n",
    "- [4 Probability Distributions](# \"TODO - Not yet complete.)\n",
    "    - [Binomial Distribution](# \"TODO - Not yet complete.)\n",
    "    - [Normal Distribution](# \"TODO - Not yet complete.)\n",
    "    - [Other Distributions](# \"TODO - Not yet complete.)\n",
    "    - [Distribution Tables](# \"TODO - Not yet complete.)\n",
    "- [5 Estimation](# \"TODO - Not yet complete.)\n",
    "- [6 Data AnalysisModels](# \"TODO - Not yet complete.)\n",
    "- [7 Machine Learning](# \"TODO - Not yet complete.)\n",
    "    - [Calculus Basics](# \"TODO - Not yet complete.)\n",
    "    - [Statistical Natural Language Processing](# \"TODO - Not yet complete.)\n",
    "    - [Linguistics](# \"TODO - Not yet complete.)\n",
    "    \n",
    "\n",
    "    \n",
    "*This set of topics may change as course development continues.*"
   ]
  },
  {
   "cell_type": "markdown",
   "metadata": {},
   "source": [
    "## Dependencies\n",
    "\n",
    "<span id=\"dependencies\"></span>\n",
    "\n",
    "If you want to run this project's notebooks, you'll likely need to have the following technologies installed.\n",
    "\n",
    "If you're simply reading along, you won't need to install any of these - just make use of the exported files documenting the lesson contents.\n",
    "\n",
    "- [Python 3.x](https://www.python.org/)\n",
    "- [jupyter-lab](https://jupyter.org/) (Recommended) or classic [jupyter](https://jupyter.org/)\n",
    "- [pandas](https://pandas.pydata.org/) - Python Data Analysis Library.\n",
    "- [NumPy](https://numpy.org/) - Package for scientific computing with Python.\n",
    "- [matplotlib](https://matplotlib.org/) - Comprehensive library for creating static, animated, and interactive visualizations in Python. \n",
    "\n",
    "*This list may grow as sections are developed.*"
   ]
  },
  {
   "cell_type": "markdown",
   "metadata": {},
   "source": [
    "You'll likely see import statements like the ones below throughout the course:\n",
    "\n",
    "```python\n",
    "# Import packages here.\n",
    "import pandas as pd\n",
    "import numpy as np\n",
    "from matplotlib import pyplot as plt\n",
    "```\n",
    "\n",
    "[Return to the top](#top)."
   ]
  },
  {
   "cell_type": "markdown",
   "metadata": {},
   "source": [
    "## Additional Resources\n",
    "\n",
    "<a id=\"resources\"></a>\n",
    "\n",
    "Additional resources for reading have been listed below for your benefit, in no particular order.\n",
    "\n",
    "Resources listed here are suggestions and are purely for your convenience - they do not consitute an endorsement. Your mileage may vary.\n",
    "\n",
    "### Books\n",
    "\n",
    "- DeVore, Jay L. (2012). [Probability and Statistics for Engineering and the Sciences (8th Ed.)](https://www.amazon.com/Probability-Statistics-Engineering-Sciences-Devore/dp/0538733527) *BROOKS/COLE CENGAGE Learning*.\n",
    "- Krenn, Brigitte & Samuelsson, Christer (1997). [The Linguist's Guide to Statistics: Don't Panic](https://nlp.stanford.edu/fsnlp/dontpanic.pdf). *Stanford NLP Group*.\n",
    "- Fortino, Andres (2020). [Data Analysis for Business Decisions: *A Laboratory Manual* (2nd Ed.)](https://www.google.com/books/edition/Data_Analysis_for_Business_Decisions/KpYJEAAAQBAJ). *Mecury Learning and Information*.\n",
    "- Fortino, Andres (2020). [Data Visualization for Business Decisions: *A Laboratory Manual* (3rd Ed.)](https://www.google.com/books/edition/Data_Visualization_for_Business_Decision/5xrsDwAAQBAJ). *Mecury Learning and Information*.\n",
    "- Morley, Sam (2020). [Applying Math with Python](https://www.google.com/books/edition/Applying_Math_with_Python/3_30DwAAQBAJ). *Packt Publishing*.\n",
    "- Farrell, Peter, et. al. (2020). [The Statistics and Calculus with Python Workshop](https://www.google.com/books/edition/The_Statistics_and_Calculus_with_Python/Llj4DwAAQBAJ). *Packt Publishing*.\n",
    "- Jesús, Sofía De & Martinez, Dayrene (2020). [Applied Computational Thinking with Python](https://www.google.com/books/edition/Applied_Computational_Thinking_with_Pyth/E_ILEAAAQBAJ). *Packt Publishing*.\n",
    "- Manning, Chris & Schütze, Hinrich (1999). [Foundations of Statistical Natural Language Processing](https://nlp.stanford.edu/fsnlp/). *MIT Press*.\n",
    "\n",
    "### Websites\n",
    "\n",
    "- Albon, Chris (n.d.). [Technical notes on statistics](https://chrisalbon.com/#statistics). Last visited Apr. 25, 2021.\n",
    "- Albon, Chris (n.d.). [Technical notes on mathematics](https://chrisalbon.com/#mathematics). Last visited Apr. 25, 2021.\n",
    "- Albon, Chris (n.d.). [Technical notes on machine learning](https://chrisalbon.com/#machine_learning). Last visited Apr. 25, 2021.\n",
    "- Kaggle, (n.d.). [Getting Started Prediction Competition: Titanic - Machine Learning from Disaster](https://www.kaggle.com/c/titanic). Last visited Apr. 25, 2021.\n",
    "- KDNuggets, (n.d.). [Website](https://www.kdnuggets.com/). Last visited Apr. 25, 2021.\n",
    "\n",
    "### Software\n",
    "\n",
    "- [Project Jupyter](https://jupyter.org/) - Project Jupyter exists to develop open-source software, open-standards, and services for interactive computing across dozens of programming languages.\n",
    "- [Notebook Viewer](https://nbviewer.jupyter.org/) - Render a Jupyter notebook without having to download the attached software.\n",
    "- [Google Colab](https://colab.research.google.com/notebooks/intro.ipynb) - Colaboratory, or \"Colab\" for short, allows you to write and execute Python in your browser, with zero configuration required, free access to GPUs, and easy sharing.\n",
    "- [MiniTab](https://www.minitab.com/en-us/) - Minitab is a statistics package developed at the Pennsylvania State University by researchers Barbara F. Ryan, Thomas A. Ryan, Jr., and Brian L. Joiner in 1972. It began as a light version of OMNITAB 80, a statistical analysis program by NIST.\n",
    "- [KNIME](https://www.knime.com/) - An open source end-to-end data science and data analytics platform.\n",
    "\n",
    "[Return to the table of contents](#toc)."
   ]
  }
 ],
 "metadata": {
  "kernelspec": {
   "display_name": "Python 3",
   "language": "python",
   "name": "python3"
  },
  "language_info": {
   "codemirror_mode": {
    "name": "ipython",
    "version": 3
   },
   "file_extension": ".py",
   "mimetype": "text/x-python",
   "name": "python",
   "nbconvert_exporter": "python",
   "pygments_lexer": "ipython3",
   "version": "3.8.8"
  }
 },
 "nbformat": 4,
 "nbformat_minor": 4
}
